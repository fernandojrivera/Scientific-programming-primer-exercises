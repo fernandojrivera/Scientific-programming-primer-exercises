{
 "cells": [
  {
   "cell_type": "code",
   "execution_count": null,
   "metadata": {},
   "outputs": [],
   "source": [
    "Cdegrees = [-5 + i*0.5 for i in range(21)]\n",
    "Fdegrees = [9*C/5 + 32 for C in Cdegrees]\n",
    "table = [[C,F] for C, F in zip(Cdegrees, Fdegrees)]"
   ]
  },
  {
   "cell_type": "code",
   "execution_count": null,
   "metadata": {},
   "outputs": [],
   "source": [
    "import pprint\n",
    "for C, F in table:\n",
    "    print('%5d, %5.1f' %(C,F))"
   ]
  },
  {
   "cell_type": "code",
   "execution_count": null,
   "metadata": {},
   "outputs": [],
   "source": [
    "print('----------------------') # table heading\n",
    "print('    F     C     C^') # table heading\n",
    "F = 0 # start value for F\n",
    "dF = 10 # increment of F in loop\n",
    "while F <= 100: # loop heading with condition\n",
    "    C = (F - 32)*(5.0/9) # calculate the corresponding C for each F\n",
    "    C_hat = (F - 30)/2\n",
    "    print('%5.1f, %5.1f, %5.1f' %(F,C,C_hat)) \n",
    "    F = F + dF # increment F\n",
    "print('----------------------') # end of table line (after loop)"
   ]
  },
  {
   "cell_type": "code",
   "execution_count": 5,
   "metadata": {},
   "outputs": [
    {
     "name": "stdout",
     "output_type": "stream",
     "text": [
      "2 3 5 7 11 13 17 "
     ]
    }
   ],
   "source": [
    "primes = [2, 3, 5, 7, 11, 13]\n",
    "p = 17\n",
    "primes.append(p)\n",
    "\n",
    "for i in primes:\n",
    "    print(\"{} \".format(i), end=\"\")"
   ]
  },
  {
   "cell_type": "code",
   "execution_count": 11,
   "metadata": {},
   "outputs": [
    {
     "name": "stdout",
     "output_type": "stream",
     "text": [
      "1\n",
      "3\n",
      "5\n",
      "7\n",
      "9\n"
     ]
    }
   ],
   "source": [
    "n = 10\n",
    "i = 1\n",
    "while i <= n:\n",
    "    print(i)\n",
    "    i+=2"
   ]
  },
  {
   "cell_type": "code",
   "execution_count": 22,
   "metadata": {},
   "outputs": [
    {
     "name": "stdout",
     "output_type": "stream",
     "text": [
      "Sum: 55. The expected value was 55.\n"
     ]
    }
   ],
   "source": [
    "n = 10\n",
    "s = 0\n",
    "for i in range(1, n+1):\n",
    "    s+=i\n",
    "expected = n*(n + 1)/2\n",
    "print('Sum: %g. The expected value was %g.' %(s,expected)) "
   ]
  },
  {
   "cell_type": "code",
   "execution_count": 1,
   "metadata": {},
   "outputs": [
    {
     "name": "stdout",
     "output_type": "stream",
     "text": [
      "Energy level for n = 0: -5.45e-21\n",
      "Energy level for n = 1: -5.45e-21\n",
      "Energy level for n = 2: -5.45e-21\n",
      "Energy level for n = 3: -5.45e-21\n",
      "Energy level for n = 4: -5.45e-21\n",
      "Energy level for n = 5: -5.45e-21\n",
      "Energy level for n = 6: -5.45e-21\n",
      "Energy level for n = 7: -5.45e-21\n",
      "Energy level for n = 8: -5.45e-21\n",
      "Energy level for n = 9: -5.45e-21\n",
      "Energy level for n = 10: -5.45e-21\n",
      "Energy level for n = 11: -5.45e-21\n",
      "Energy level for n = 12: -5.45e-21\n",
      "Energy level for n = 13: -5.45e-21\n",
      "Energy level for n = 14: -5.45e-21\n",
      "Energy level for n = 15: -5.45e-21\n",
      "Energy level for n = 16: -5.45e-21\n",
      "Energy level for n = 17: -5.45e-21\n",
      "Energy level for n = 18: -5.45e-21\n",
      "Energy level for n = 19: -5.45e-21\n",
      "Energy level for n = 20: -5.45e-21\n",
      "--------------------------------------------------------------------------\n",
      "i/f  f=1 \tf=2 \t\t f=3 \t\t f=4 \t\t f=5\n",
      "1: -0.00e+00, \t-1.63e-18, \t-1.94e-18, \t-2.04e-18, \t-2.09e-18, \t\n",
      "2: 1.63e-18, \t-0.00e+00, \t-3.03e-19, \t-4.09e-19, \t-4.58e-19, \t\n",
      "3: 1.94e-18, \t3.03e-19, \t-0.00e+00, \t-1.06e-19, \t-1.55e-19, \t\n",
      "4: 2.04e-18, \t4.09e-19, \t1.06e-19, \t-0.00e+00, \t-4.90e-20, \t\n",
      "5: 2.09e-18, \t4.58e-19, \t1.55e-19, \t4.90e-20, \t-0.00e+00, \t\n",
      "--------------------------------------------------------------------------\n"
     ]
    }
   ],
   "source": [
    "m_e = 9.1094*10**-31 #  Kg\n",
    "e = 1.6022*10**-19 #  C\n",
    "ep_0 = 8.8542*10**-12 #  C^2 * s^2 * kg^-1 * m^-3\n",
    "h = 6.6261*10**-34 #  J\n",
    "\n",
    "n = 20\n",
    "\n",
    "E = [-((m_e*e**4)/(8*ep_0**2*h**2))*(1/n**2) for i in range(n+1)]\n",
    "\n",
    "for i in range(n+1):\n",
    "    print('Energy level for n = %g: %.2e' %(i, E[i]))\n",
    "\n",
    "print('--------------------------------------------------------------------------')\n",
    "print('i/f  f=1 \\tf=2 \\t\\t f=3 \\t\\t f=4 \\t\\t f=5')\n",
    "for i in range(1,6):\n",
    "    print(str(i) + ': ', end='')\n",
    "    for j in range(1,6):\n",
    "        deltaE = -((m_e*e**4)/(8*ep_0**2*h**2))*(1/i**2 - 1/j**2)\n",
    "        print('%.2e, ' %(deltaE), end='\\t')\n",
    "    print()\n",
    "print('--------------------------------------------------------------------------')"
   ]
  },
  {
   "cell_type": "code",
   "execution_count": 11,
   "metadata": {},
   "outputs": [
    {
     "name": "stdout",
     "output_type": "stream",
     "text": [
      "0.0 2.5 5.0 7.5 10.0 "
     ]
    }
   ],
   "source": [
    "a = 0\n",
    "b = 10\n",
    "n = 4\n",
    "h = (b - a)/n\n",
    "x = []\n",
    "for i in range(n+1):\n",
    "    x.append(a+i*h)\n",
    "    print(x[i], end=' ')\n",
    "\n",
    "#alternate solution\n",
    "x_comprehension = [a+i*h for i in range(n+1)]"
   ]
  },
  {
   "cell_type": "code",
   "execution_count": 54,
   "metadata": {},
   "outputs": [
    {
     "name": "stdout",
     "output_type": "stream",
     "text": [
      "[['t = 0', 'y = 0'],\n",
      " ['t = 0.5*v0/g', 'y = 0.375*v0**2/g'],\n",
      " ['t = 1.0*v0/g', 'y = 0.5*v0**2/g'],\n",
      " ['t = 1.5*v0/g', 'y = 0.375*v0**2/g'],\n",
      " ['t = 2.0*v0/g', 'y = 0']]\n"
     ]
    }
   ],
   "source": [
    "from sympy import (symbols, lambdify)\n",
    "from pprint import  pprint\n",
    "a = 0\n",
    "b = 2\n",
    "n = 4\n",
    "h = (b - a)/n\n",
    "\n",
    "T, t, v0, g = symbols('T t v0 g')\n",
    "\n",
    "T = [(a+i*h)*v0/g for i in range(n+1)]\n",
    "Y = [v0*t - (1/2)*g*t**2 for t in T]\n",
    "table = [[t, y] for t, y in zip(T, Y)]\n",
    "\n",
    "for i in table:\n",
    "    i[0] = 't = ' + str(i[0])\n",
    "    i[1] = 'y = ' + str(i[1])\n",
    "\n",
    "pprint(table)"
   ]
  }
 ],
 "metadata": {
  "interpreter": {
   "hash": "a42478c63639b2a80d67ba3d90707a69be0ad4fe16670f4372b98d4409af05d8"
  },
  "kernelspec": {
   "display_name": "Python 3.8.5 64-bit ('base': conda)",
   "name": "python3"
  },
  "language_info": {
   "codemirror_mode": {
    "name": "ipython",
    "version": 3
   },
   "file_extension": ".py",
   "mimetype": "text/x-python",
   "name": "python",
   "nbconvert_exporter": "python",
   "pygments_lexer": "ipython3",
   "version": "3.8.5"
  },
  "orig_nbformat": 4
 },
 "nbformat": 4,
 "nbformat_minor": 2
}
