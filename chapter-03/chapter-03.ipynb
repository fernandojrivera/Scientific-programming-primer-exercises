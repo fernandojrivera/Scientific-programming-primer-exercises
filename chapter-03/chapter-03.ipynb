{
 "cells": [
  {
   "cell_type": "code",
   "execution_count": null,
   "metadata": {},
   "outputs": [],
   "source": [
    "def F(C):\n",
    "    return (9.0/5)*C +32"
   ]
  },
  {
   "cell_type": "code",
   "execution_count": null,
   "metadata": {},
   "outputs": [],
   "source": [
    "def makelist(start, stop, inc):\n",
    "    value = start\n",
    "    result = []\n",
    "    while value <= stop:\n",
    "        result.append(value)\n",
    "        value = value + inc\n",
    "    return result\n",
    "mylist = makelist(0, 100, 0.2)\n",
    "print(mylist)"
   ]
  },
  {
   "cell_type": "code",
   "execution_count": 11,
   "metadata": {},
   "outputs": [
    {
     "name": "stdout",
     "output_type": "stream",
     "text": [
      "Expected: 0.91629, Approximation: 0.6, delta: -0.316291, n: 1\n",
      "Expected: 0.91629, Approximation: 0.91555, delta: -0.000740, n: 10\n",
      "Expected: 0.91629, Approximation: 0.91629, delta: 0.000000, n: 100\n",
      "Expected: 0.91629, Approximation: 0.91629, delta: 0.000000, n: 1000\n",
      "Expected: 0.91629, Approximation: 0.91629, delta: 0.000000, n: 10000\n"
     ]
    }
   ],
   "source": [
    "from math import log\n",
    "def L(x, n):\n",
    "    s = 0\n",
    "    for i in range(1, n+1):\n",
    "        s += (1.0/i)*(x/(1.0+x))**i\n",
    "    return s\n",
    "\n",
    "X = 1.5\n",
    "ln = log(X + 1)\n",
    "N = [10**x for x in range(5)]\n",
    "approx_list = [L(X, n) for n in N]\n",
    "for approx, n in zip(approx_list, N):\n",
    "    n = n\n",
    "    delta = approx - ln\n",
    "    print(\"Expected: %.5g, Approximation: %.5g, delta: %.6f, n: %i\" %(ln, approx, delta, n))"
   ]
  },
  {
   "cell_type": "code",
   "execution_count": 16,
   "metadata": {},
   "outputs": [
    {
     "name": "stdout",
     "output_type": "stream",
     "text": [
      "\n",
      "x=10, ln(1+x)=2.3979\n",
      "n=1    0.909091   (next term: 4.13e-01 error: 1.49e+00)\n",
      "n=2    1.32231    (next term: 2.50e-01 error: 1.08e+00)\n",
      "n=10   2.17907    (next term: 3.19e-02 error: 2.19e-01)\n",
      "n=100  2.39789    (next term: 6.53e-07 error: 6.59e-06)\n",
      "n=500  2.3979     (next term: 3.65e-24 error: 6.22e-15)\n",
      "\n",
      "x=1000, ln(1+x)=6.90875\n",
      "n=1    0.999001   (next term: 4.99e-01 error: 5.91e+00)\n",
      "n=2    1.498      (next term: 3.32e-01 error: 5.41e+00)\n",
      "n=10   2.919      (next term: 8.99e-02 error: 3.99e+00)\n",
      "n=100  5.08989    (next term: 8.95e-03 error: 1.82e+00)\n",
      "n=500  6.34928    (next term: 1.21e-03 error: 5.59e-01)\n"
     ]
    }
   ],
   "source": [
    "def L2(x, n):\n",
    "    s = 0\n",
    "    for i in range(1, n+1):\n",
    "        s += (1.0/i)*(x/(1.0+x))**i\n",
    "    value_of_sum = s\n",
    "    first_neglected_term = (1.0/(n+1))*(x/(1.0+x))**(n+1)\n",
    "    from math import log\n",
    "    exact_error = log(1+x) - value_of_sum\n",
    "    return value_of_sum, first_neglected_term, exact_error\n",
    "# typical call:\n",
    "value, approximate_error, exact_error = L2(10, 100)\n",
    "\n",
    "def table(x):\n",
    "    print('\\nx=%g, ln(1+x)=%g' % (x, log(1+x)))\n",
    "    for n in [1, 2, 10, 100, 500]:\n",
    "        value, next, error = L2(x, n)\n",
    "        print('n=%-4d %-10g (next term: %8.2e '\\\n",
    "            'error: %8.2e)' % (n, value, next, error))\n",
    "\n",
    "table(10)\n",
    "table(1000)"
   ]
  },
  {
   "cell_type": "code",
   "execution_count": 31,
   "metadata": {},
   "outputs": [
    {
     "name": "stdout",
     "output_type": "stream",
     "text": [
      "\n",
      "x=10, ln(1+x)=2.3979\n",
      "epsilon: 0.0001, exact error: 8.18e-04, n=55\n",
      "epsilon:  1e-06, exact error: 9.02e-06, n=97\n",
      "epsilon:  1e-08, exact error: 8.70e-08, n=142\n",
      "epsilon:  1e-10, exact error: 9.20e-10, n=187\n",
      "epsilon:  1e-12, exact error: 9.31e-12, n=233\n",
      "\n",
      "x=1000, ln(1+x)=6.90875\n",
      "epsilon: 0.0001, exact error: 6.98e-02, n=1747\n",
      "epsilon:  1e-06, exact error: 8.57e-04, n=5252\n",
      "epsilon:  1e-08, exact error: 9.10e-06, n=9289\n",
      "epsilon:  1e-10, exact error: 9.35e-08, n=13521\n",
      "epsilon:  1e-12, exact error: 9.48e-10, n=17851\n"
     ]
    }
   ],
   "source": [
    "def L3(x, epsilon=1.0E-6):\n",
    "    x = float(x)\n",
    "    i = 1\n",
    "    term = (1.0/i)*(x/(1+x))**i\n",
    "    s = term\n",
    "    while abs(term) > epsilon:\n",
    "        i += 1\n",
    "        term = (1.0/i)*(x/(1+x))**i\n",
    "        s += term\n",
    "    return s, i\n",
    "\n",
    "def table2(x):\n",
    "    from math import log\n",
    "    print('\\nx=%g, ln(1+x)=%g' % (x, log(1+x)))\n",
    "    for k in range(4, 14, 2):\n",
    "        epsilon = 10**(-k)\n",
    "        approx, n = L3(x, epsilon=epsilon)\n",
    "        exact = log(1+x)\n",
    "        delta = exact - approx\n",
    "        print('epsilon: %6g, exact error: %-.2e, n=%-i' % (epsilon, delta, n))\n",
    "\n",
    "table2(10)\n",
    "table2(1000)\n"
   ]
  },
  {
   "cell_type": "code",
   "execution_count": 33,
   "metadata": {},
   "outputs": [
    {
     "name": "stdout",
     "output_type": "stream",
     "text": [
      "g’’(1.200000)=9.767798\n",
      "h=1e-01: 44.61504\n",
      "h=1e-02: 42.02521\n",
      "h=1e-03: 42.00025\n",
      "h=1e-04: 42.00000\n",
      "h=1e-05: 41.99999\n",
      "h=1e-06: 42.00074\n",
      "h=1e-07: 41.94423\n",
      "h=1e-08: 47.73959\n",
      "h=1e-09: -666.13381\n",
      "h=1e-10: 0.00000\n",
      "h=1e-11: 0.00000\n",
      "h=1e-12: -666133814.77509\n",
      "h=1e-13: 66613381477.50939\n",
      "h=1e-14: 0.00000\n"
     ]
    }
   ],
   "source": [
    "def diff2nd(f, x, h=1E-6):\n",
    "    r = (f(x-h) - 2*f(x) + f(x+h))/float(h*h)\n",
    "    return r\n",
    "\n",
    "def g(t):\n",
    "    return t**(-6)\n",
    "t = 1.2\n",
    "d2g = diff2nd(g, t)\n",
    "print(\"g’’(%f)=%f\" % (t, d2g))\n",
    "\n",
    "for k in range(1,15):\n",
    "    h = 10**(-k)\n",
    "    d2g = diff2nd(g, 1, h)\n",
    "    print('h=%.0e: %.5f' % (h, d2g))"
   ]
  },
  {
   "cell_type": "code",
   "execution_count": 36,
   "metadata": {},
   "outputs": [
    {
     "name": "stdout",
     "output_type": "stream",
     "text": [
      "1.2246467991473532e-16\n"
     ]
    }
   ],
   "source": [
    "from math import *\n",
    "f = lambda x: sin(x) if 0 <= x <= 2*pi else 0\n",
    "print(f(pi))"
   ]
  },
  {
   "cell_type": "code",
   "execution_count": 40,
   "metadata": {},
   "outputs": [
    {
     "name": "stdout",
     "output_type": "stream",
     "text": [
      "C appears 3 times in ATGCGGACCTAT\n",
      "C appears 3 times in ATGCGGACCTAT\n"
     ]
    }
   ],
   "source": [
    "def count_v2(dna, base):\n",
    "    i = 0 # counter\n",
    "    for c in dna:\n",
    "        if c == base:\n",
    "            i += 1\n",
    "    return i\n",
    "dna = 'ATGCGGACCTAT'\n",
    "base = 'C'\n",
    "n = count_v2(dna, base)\n",
    "# printf-style formatting\n",
    "print('%s appears %d times in %s' % (base, n, dna))\n",
    "# or (new) format string syntax\n",
    "print('{base} appears {n} times in {dna}'.format(\n",
    "base=base, n=n, dna=dna))"
   ]
  },
  {
   "cell_type": "code",
   "execution_count": 46,
   "metadata": {},
   "outputs": [
    {
     "name": "stdout",
     "output_type": "stream",
     "text": [
      "C appears 3 times in ATGCGGACCTAT\n"
     ]
    }
   ],
   "source": [
    "def count_v8(dna, base):\n",
    "    return sum(c == base for c in dna)\n",
    "\n",
    "dna = 'ATGCGGACCTAT'\n",
    "base = 'C'\n",
    "n = count_v8(dna, base)\n",
    "print('{base} appears {n} times in {dna}'.format(\n",
    "base=base, n=n, dna=dna))"
   ]
  },
  {
   "cell_type": "code",
   "execution_count": 58,
   "metadata": {},
   "outputs": [],
   "source": [
    "def Simpson(f, a, b, n=500):\n",
    "    \"\"\"\n",
    "    Return the approximation of the integral of f\n",
    "    from a to b using Simpson’s rule with n intervals.\n",
    "    \"\"\"\n",
    "    if a > b:\n",
    "        print('Error: a=%g > b=%g' % (a, b))\n",
    "        return None\n",
    "    # check that n is even:\n",
    "    if n % 2 != 0:\n",
    "        print('Error: n=%d is not an even integer!' % n)\n",
    "        n = n+1 # make n even\n",
    "    h = (b - a)/float(n)\n",
    "    sum1 = 0\n",
    "    for i in range(1, int(n/2) + 1):\n",
    "        sum1 += f(a + (2*i-1)*h)\n",
    "    sum2 = 0\n",
    "    for i in range(1, int(n/2)):\n",
    "        sum2 += f(a + 2*i*h)\n",
    "    integral = (b-a)/(3*n)*(f(a) + f(b) + 4*sum1 + 2*sum2)\n",
    "    return integral"
   ]
  },
  {
   "cell_type": "code",
   "execution_count": 59,
   "metadata": {},
   "outputs": [
    {
     "name": "stdout",
     "output_type": "stream",
     "text": [
      "Integral of 1.5*sin^3 from 0 to pi:\n",
      "n=  2, approx= 3.141592653589793, error=-1.14E+00\n",
      "n=  6, approx= 1.989171700583579, error= 1.08E-02\n",
      "n= 12, approx= 1.999489233010781, error= 5.11E-04\n",
      "n=100, approx= 1.999999902476350, error= 9.75E-08\n",
      "n=500, approx= 1.999999999844138, error= 1.56E-10\n"
     ]
    }
   ],
   "source": [
    "def h(x):\n",
    "    return (3./2)*sin(x)**3\n",
    "\n",
    "from math import sin, pi\n",
    "def application():\n",
    "    print('Integral of 1.5*sin^3 from 0 to pi:')\n",
    "    for n in 2, 6, 12, 100, 500:\n",
    "        approx = Simpson(h, 0, pi, n)\n",
    "        print('n=%3d, approx=%18.15f, error=%9.2E' % \\\n",
    "            (n, approx, 2-approx))\n",
    "application()"
   ]
  },
  {
   "cell_type": "code",
   "execution_count": 60,
   "metadata": {},
   "outputs": [],
   "source": [
    "def test_Simpson():\n",
    "    \"\"\"Test exact integration of quadratic polynomials.\"\"\"\n",
    "    a = 1.5\n",
    "    b = 2.0\n",
    "    n = 8\n",
    "    ep = 1e-14\n",
    "    g = lambda x: 3*x**2 - 7*x + 2.5 # test integrand\n",
    "    G = lambda x: x**3 - 3.5*x**2 + 2.5*x # integral of g\n",
    "    exact = G(b) - G(a)\n",
    "    approx = Simpson(g, a, b, n)\n",
    "    success = abs(exact - approx) < ep\n",
    "    msg = 'Simpson: %g, exact: %g' % (approx, exact)\n",
    "    assert success, msg\n",
    "\n",
    "test_Simpson()"
   ]
  },
  {
   "cell_type": "code",
   "execution_count": 68,
   "metadata": {},
   "outputs": [],
   "source": [
    "F = lambda c: (9.0/5)*c + 32\n",
    "C = lambda f: (5.0/9)*(f - 32)\n",
    "\n",
    "def test_F_C():\n",
    "    \"\"\"Test conversion of temperature units between C and F degrees \"\"\"\n",
    "    ep = 1e-14\n",
    "    x = 10\n",
    "    exact = C(F(x)) - F(C(x))\n",
    "    success = abs(exact) < ep\n",
    "    msg = 'F(C(x)): %g, C(F(x)): %g' % (F(C(x)), C(F(x)))\n",
    "    assert success, msg\n",
    "\n",
    "test_F_C()"
   ]
  },
  {
   "cell_type": "code",
   "execution_count": 69,
   "metadata": {},
   "outputs": [],
   "source": [
    "double = lambda x: x+x\n",
    "def test_double():\n",
    "    assert double(2) == 4\n",
    "    assert abs(double(0.1) - 0.2) < 1E-15\n",
    "    assert double([1, 2]) == [1, 2, 1, 2]\n",
    "    assert double((1, 2)) == (1, 2, 1, 2)\n",
    "    assert double(3+4j) == 6+8j\n",
    "    assert double('hello') == 'hellohello'\n",
    "test_double()"
   ]
  },
  {
   "cell_type": "code",
   "execution_count": 84,
   "metadata": {},
   "outputs": [
    {
     "name": "stdout",
     "output_type": "stream",
     "text": [
      "1.8333333333333333\n"
     ]
    }
   ],
   "source": [
    "sum_1k = lambda m: sum(1/x for x in range(1, m+1))\n",
    "m = 3\n",
    "print (s(m))\n",
    "\n",
    "def test_sum_1k():\n",
    "    \"\"\"Test calculation of harmonic series \"\"\"\n",
    "    ep = 1e-14\n",
    "    exact = 1 + 1/2 + 1/3\n",
    "    calc = sum_1k(3)\n",
    "    success = abs(exact - calc) < ep\n",
    "    msg = 'Expected: %g, Result: %g' % (exact, calc)\n",
    "    assert success, msg\n",
    "\n",
    "test_sum_1k()"
   ]
  }
 ],
 "metadata": {
  "interpreter": {
   "hash": "31f2aee4e71d21fbe5cf8b01ff0e069b9275f58929596ceb00d14d90e3e16cd6"
  },
  "kernelspec": {
   "display_name": "Python 3.8.10 64-bit",
   "language": "python",
   "name": "python3"
  },
  "language_info": {
   "codemirror_mode": {
    "name": "ipython",
    "version": 3
   },
   "file_extension": ".py",
   "mimetype": "text/x-python",
   "name": "python",
   "nbconvert_exporter": "python",
   "pygments_lexer": "ipython3",
   "version": "3.8.10"
  },
  "orig_nbformat": 4
 },
 "nbformat": 4,
 "nbformat_minor": 2
}
